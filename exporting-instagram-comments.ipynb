{
 "cells": [
  {
   "cell_type": "code",
   "execution_count": null,
   "metadata": {
    "id": "QHzaR2hdr5cT"
   },
   "outputs": [],
   "source": [
    "# Carrega as bibliotecas necessárias\n",
    "import requests\n",
    "import json\n",
    "from bs4 import BeautifulSoup\n",
    "import dataset\n",
    "import time\n",
    "import pandas as pd\n",
    "from pathlib import Path\n",
    "from datetime import datetime"
   ]
  },
  {
   "cell_type": "code",
   "execution_count": null,
   "metadata": {
    "id": "6Q-T5OJTsVpv"
   },
   "outputs": [],
   "source": [
    "# Define a URL inicial que será consultada para busca dos comentários\n",
    "commentsUrl = 'https://www.instagram.com/graphql/query/?query_hash={}&variables={}'"
   ]
  },
  {
   "cell_type": "markdown",
   "metadata": {},
   "source": [
    "### Obtendo variáveis de acesso\n",
    "\n",
    "Duas variáveis são fundamentais para que consiga o acesso aos comentários do Instagram via XHR:\n",
    "\n",
    "1. **query_hash:** parâmetro para efetivar a requisição que busca os comentários;\n",
    "2. **cookie:** guarda os dados de sessão/autenticação.\n",
    "\n",
    "O valores das duas variáveis podem ser obtidos seguindo as seguintes instruções: https://github.com/andrejose/exporting-instagram-comments/blob/master/getting-variables.md\n",
    "\n",
    "Após seguir as instruções acima, altere os valores das variáveis abaixo:"
   ]
  },
  {
   "cell_type": "code",
   "execution_count": null,
   "metadata": {},
   "outputs": [],
   "source": [
    "query_hash = ''\n",
    "\n",
    "cookie = ''"
   ]
  },
  {
   "cell_type": "code",
   "execution_count": null,
   "metadata": {
    "colab": {
     "base_uri": "https://localhost:8080/"
    },
    "id": "y60iCTw7r6zX",
    "outputId": "61d488fc-f572-48ff-9887-5ebf1d3eb3f8"
   },
   "outputs": [],
   "source": [
    "# Inicia uma nova sessão (simula um acesso a uma página do Instagram)\n",
    "session = requests.Session()\n",
    "session.headers.update({\n",
    "    'User-Agent' : 'Mozilla/5.0 (Windows NT 10.0; Win64; x64) AppleWebKit/537.36 ' + ' (KHTML, like Gecko) Chrome/62.0.3202.62 Safari/537.36',\n",
    "    'cookie' : cookie\n",
    "})"
   ]
  },
  {
   "cell_type": "code",
   "execution_count": null,
   "metadata": {},
   "outputs": [],
   "source": [
    "# Função para pegar o total de comentários\n",
    "def get_total_comments(self):\n",
    "    try:\n",
    "        return self['edge_media_to_parent_comment']['count']\n",
    "    except KeyError:\n",
    "        return self['edge_media_to_comment']['count']"
   ]
  },
  {
   "cell_type": "code",
   "execution_count": null,
   "metadata": {},
   "outputs": [],
   "source": [
    "# Função para pegar se há uma próxima página\n",
    "def get_has_next_page(self):\n",
    "    try:\n",
    "        return self['edge_media_to_parent_comment']['page_info']['has_next_page']\n",
    "    except KeyError:\n",
    "        return self['edge_media_to_comment']['page_info']['has_next_page']"
   ]
  },
  {
   "cell_type": "code",
   "execution_count": null,
   "metadata": {},
   "outputs": [],
   "source": [
    "# Função para pegar o marcador final\n",
    "def get_end_cursor(self):\n",
    "    try:\n",
    "        return self['edge_media_to_parent_comment']['page_info']['end_cursor']\n",
    "    except KeyError:\n",
    "        return self['edge_media_to_comment']['page_info']['end_cursor']"
   ]
  },
  {
   "cell_type": "code",
   "execution_count": null,
   "metadata": {},
   "outputs": [],
   "source": [
    "# Função para pegar os nós dos comentários\n",
    "def get_edges(self):\n",
    "    try:\n",
    "        return self['edge_media_to_parent_comment']['edges']\n",
    "    except KeyError:\n",
    "        return self['edge_media_to_comment']['edges']"
   ]
  },
  {
   "cell_type": "code",
   "execution_count": null,
   "metadata": {
    "id": "l3NeMImKQAZi"
   },
   "outputs": [],
   "source": [
    "# Função que analisa o código retornado do servidor, coletando os dados dos comentários\n",
    "def parse_comments(reply):\n",
    "    # Cria variáveis globais para serem acessadas de fora da função\n",
    "    global total_comments, has_next_page, end_cursor, postID\n",
    "    # Cria uma lista vazia para inserir os comentários da página\n",
    "    comments = []\n",
    "\n",
    "    # Converte o conteúdo retornado para um objeto JSON\n",
    "    jsonObj = json.loads(reply)\n",
    "\n",
    "    # Identifica dentro do objeto JSON, dados necessários para a navegação e exploração das páginas posteriores\n",
    "    # Total de comentários\n",
    "    totalComments = get_total_comments(jsonObj['data']['shortcode_media'])\n",
    "    # Se possui uma próxima página a ser explorada\n",
    "    hasNextPage = get_has_next_page(jsonObj['data']['shortcode_media'])\n",
    "    # Marcador que indicar o início da próxima página\n",
    "    endCursor = get_end_cursor(jsonObj['data']['shortcode_media'])\n",
    "    # Nós que correspondem aos comentários da página atual\n",
    "    edges = get_edges(jsonObj['data']['shortcode_media'])\n",
    "\n",
    "    # Atualizando as variáveis globais\n",
    "    total_comments = totalComments \n",
    "    has_next_page = hasNextPage\n",
    "    end_cursor = endCursor\n",
    "    \n",
    "    # Repetição para percorrer os comentários da página\n",
    "    for i in edges:\n",
    "        # Identifica os dados a serem coletados do comentário \n",
    "        commentId = i['node']['id']\n",
    "        commentText = i['node']['text']\n",
    "        commentDate = i['node']['created_at']\n",
    "        userId = i['node']['owner']['id']\n",
    "        userPic = i['node']['owner']['profile_pic_url']\n",
    "        userUsername = i['node']['owner']['username']\n",
    "        \n",
    "        # Na lista de comentários, adiciona um novo registro referente ao comentário atual\n",
    "        comments.append({'commentId': commentId,\n",
    "            'commentText': commentText,\n",
    "            'commentDate': commentDate,\n",
    "            'userId': userId,\n",
    "            'userPic': userPic,\n",
    "            'userUsername': userUsername,\n",
    "            'postId': postID})\n",
    "\n",
    "    # Após percorrer todos os comentários da página, retorna a lista com o conteúdo extraído\n",
    "    return comments"
   ]
  },
  {
   "cell_type": "code",
   "execution_count": null,
   "metadata": {
    "id": "gyYGUN_tsyqV"
   },
   "outputs": [],
   "source": [
    "# Função que busca os comentários de uma determinada página\n",
    "def get_comments(post_id, after = '', qh = query_hash):\n",
    "    # Dados enviados pela requisição\n",
    "    data = {\n",
    "        'shortcode':post_id,\n",
    "        'after':after,\n",
    "        'first':100\n",
    "    }\n",
    "    # Converte os dados para uma variável literal que será enviada pela URL\n",
    "    dataString = json.dumps(data)\n",
    "    # Formata a URL final com os dados\n",
    "    finalUrl = commentsUrl.format(qh, dataString)\n",
    "    \n",
    "    # Realiza a requisição\n",
    "    r = session.get(finalUrl)\n",
    "    # Identifica os comentários, enviando a resposta da requisição à função parse_comments()\n",
    "    comments = parse_comments(r.text)\n",
    "    # Retorna os comentários formatados\n",
    "    return comments"
   ]
  },
  {
   "cell_type": "code",
   "execution_count": null,
   "metadata": {},
   "outputs": [],
   "source": [
    "# Lê o arquivo CSV que contém os posts cujos comentários serão exportados salvando os dados em um data frame\n",
    "posts_df = pd.read_csv(\"./posts.csv\", sep=\";\")"
   ]
  },
  {
   "cell_type": "code",
   "execution_count": null,
   "metadata": {},
   "outputs": [],
   "source": [
    "# Exibe as cinco primeiras linhas do data frame\n",
    "posts_df.head()"
   ]
  },
  {
   "cell_type": "code",
   "execution_count": null,
   "metadata": {},
   "outputs": [],
   "source": [
    "# Repetição para percorrer todas os posts contidos no data frame\n",
    "for i in range(len(posts_df)):\n",
    "    # Identifica a ID do post cujos comentários serão exportados\n",
    "    postID = posts_df['URL'][i].split(\"/\")[-2]\n",
    "    # Faz uma requisição, simulando um acesso à página do post\n",
    "    session.get('https://www.instagram.com/p/{}/'.format(postID))    \n",
    "    \n",
    "    # Imprime na tela uma mensagem que o post está sendo \"raspado\"\n",
    "    print('=========================================')\n",
    "    print('Scraping post: ', postID)\n",
    "    \n",
    "    # Identifica a qual marca o post pertence\n",
    "    marca = posts_df['Marca'][i]\n",
    "    # Define a variável global do total de comentários como zero\n",
    "    total_comments = 0\n",
    "    # Define que há uma nova página a ser explorada\n",
    "    has_next_page = True\n",
    "    # Define como vazio o marcador de próxima página\n",
    "    end_cursor = ''\n",
    "    # Define a página atual como 1    \n",
    "    page = 1\n",
    "    # Cria uma lista vazia que conterá todos os comentários do post\n",
    "    all_comments = []\n",
    "    \n",
    "    # Enquando a variável has_next_page for verdadeira, o bloco de ação é executado\n",
    "    while has_next_page:\n",
    "        # Imprime na tela qual página está sendo explorada\n",
    "        print('=========================================')\n",
    "        print('Page', page, ' - End cursor: ', end_cursor)\n",
    "        print('=========================================')\n",
    "        \n",
    "        # Cria uma variável com os comentários, utilizando a funçao get_comments()\n",
    "        comments = get_comments(postID, end_cursor)\n",
    "        \n",
    "        # Se não há comentários, encerra a repetição\n",
    "        if not comments:\n",
    "            break\n",
    "\n",
    "        # Imprime a quantidade de comentários na página\n",
    "        print('Comments in page:', len(comments))\n",
    "\n",
    "        # Verifica se já existe comentários na lista all_comments\n",
    "        if (len(all_comments)):\n",
    "            # Se sim, apenas adiciona os novos comentários à lista\n",
    "            all_comments = all_comments + comments\n",
    "        else:\n",
    "            # Caso contrário, a lista é igual aos comentários extraídos\n",
    "            all_comments = comments\n",
    "            \n",
    "        # Incrementa a variável página\n",
    "        page += 1\n",
    "        # Pausa o programa por três segundos, para evitar um acesso massivo ao servidor\n",
    "        time.sleep(3)\n",
    "    \n",
    "    # Converte a lista com todos os comentários de um post para um data frame \n",
    "    commentsDf = pd.DataFrame(all_comments, columns=['commentId', 'commentText', 'commentDate', 'userId', 'userPic', 'userUsername', 'postId'])\n",
    "    # Cria uma nova coluna com a data formatada dos comentários\n",
    "    commentsDf['commentDateFormatted'] = pd.to_datetime(commentsDf['commentDate'], unit='s')\n",
    "    \n",
    "    # Caso não exista, cria um novo diretório com a marca para salvar os arquivos que serão exportados\n",
    "    Path('./exports/'+marca).mkdir(parents=True, exist_ok=True)\n",
    "    \n",
    "    # Exporta o data frame com todos os comentários para um planilha Excel\n",
    "    commentsDf.to_excel('./exports/'+marca+'/comments-post-'+postID+'.xlsx')  \n",
    "\n",
    "    # Pausa o programa por três segundos, para evitar um acesso massivo ao servidor\n",
    "    time.sleep(3)"
   ]
  }
 ],
 "metadata": {
  "colab": {
   "collapsed_sections": [],
   "name": "IGCommentExport.ipynb",
   "provenance": []
  },
  "kernelspec": {
   "display_name": "Python 3",
   "language": "python",
   "name": "python3"
  },
  "language_info": {
   "codemirror_mode": {
    "name": "ipython",
    "version": 3
   },
   "file_extension": ".py",
   "mimetype": "text/x-python",
   "name": "python",
   "nbconvert_exporter": "python",
   "pygments_lexer": "ipython3",
   "version": "3.7.0"
  }
 },
 "nbformat": 4,
 "nbformat_minor": 1
}
